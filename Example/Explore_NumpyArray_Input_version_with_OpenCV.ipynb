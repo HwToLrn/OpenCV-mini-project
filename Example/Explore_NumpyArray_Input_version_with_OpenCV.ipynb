{
 "cells": [
  {
   "cell_type": "code",
   "execution_count": 1,
   "id": "5241dad8",
   "metadata": {
    "ExecuteTime": {
     "end_time": "2021-09-25T14:49:43.197944Z",
     "start_time": "2021-09-25T14:49:39.665149Z"
    }
   },
   "outputs": [],
   "source": [
    "import cv2\n",
    "from PIL import Image, ImageOps\n",
    "import numpy as np\n",
    "import tensorflow as tf"
   ]
  },
  {
   "cell_type": "code",
   "execution_count": 2,
   "id": "31c67408",
   "metadata": {
    "ExecuteTime": {
     "end_time": "2021-09-25T14:49:43.229888Z",
     "start_time": "2021-09-25T14:49:43.214898Z"
    }
   },
   "outputs": [],
   "source": [
    "# 이미지를 가져오는 방법\n",
    "# 저장된 이미지를 가져오는 것이 아니라\n",
    "# cam에서 찍은 순간의 image를 가져온다.\n",
    "def get_camImage():\n",
    "    global CheckActVideo, moment_image\n",
    "    # 내부 카메라를 찾는 함수\n",
    "    video = cv2.VideoCapture(0)\n",
    "    # CheckActVideo : 카메라가 활성화 됐는지 여부확인\n",
    "    # video.read() : 현재 cam 사진 한 장을 찍음\n",
    "    CheckActVideo, moment_image = video.read() \n",
    "    \n",
    "    if CheckActVideo: \n",
    "        print(\"Get Image, shape of Image : \", moment_image.shape)\n",
    "    else:\n",
    "        print(\"Fail getting Image\")"
   ]
  },
  {
   "cell_type": "code",
   "execution_count": 3,
   "id": "2cdd3b7f",
   "metadata": {
    "ExecuteTime": {
     "end_time": "2021-09-25T14:49:43.919263Z",
     "start_time": "2021-09-25T14:49:43.315292Z"
    }
   },
   "outputs": [
    {
     "name": "stdout",
     "output_type": "stream",
     "text": [
      "Get Image, shape of Image :  (720, 1280, 3)\n"
     ]
    }
   ],
   "source": [
    "get_camImage()"
   ]
  },
  {
   "cell_type": "code",
   "execution_count": 10,
   "id": "6ea63500",
   "metadata": {
    "ExecuteTime": {
     "end_time": "2021-09-24T08:58:43.501224Z",
     "start_time": "2021-09-24T08:58:34.849636Z"
    }
   },
   "outputs": [],
   "source": [
    "cv2.namedWindow(winname='image')\n",
    "while True:\n",
    "    cv2.imshow(winname='image', mat=moment_image)\n",
    "    if cv2.waitKey(1) & 0xFF == 27:\n",
    "        cv2.destroyAllWindows()\n",
    "        break"
   ]
  },
  {
   "cell_type": "code",
   "execution_count": 4,
   "id": "5a5a1b9e",
   "metadata": {
    "ExecuteTime": {
     "end_time": "2021-09-25T14:50:03.011886Z",
     "start_time": "2021-09-25T14:50:02.995927Z"
    }
   },
   "outputs": [
    {
     "name": "stdout",
     "output_type": "stream",
     "text": [
      "Our Image type :  <class 'numpy.ndarray'>\n",
      "Image Shape :  (720, 1280, 3)\n"
     ]
    }
   ],
   "source": [
    "print('Our Image type : ', type(moment_image))\n",
    "print('Image Shape : ', moment_image.shape)"
   ]
  },
  {
   "cell_type": "code",
   "execution_count": 5,
   "id": "38dc5a33",
   "metadata": {
    "ExecuteTime": {
     "end_time": "2021-09-25T14:58:57.556503Z",
     "start_time": "2021-09-25T14:58:57.550486Z"
    }
   },
   "outputs": [
    {
     "name": "stdout",
     "output_type": "stream",
     "text": [
      "Image Shape :  (224, 224, 3)\n"
     ]
    }
   ],
   "source": [
    "shape = (224, 224, 3)\n",
    "moment_image.resize(shape, refcheck=False)\n",
    "print('Image Shape : ', moment_image.shape)"
   ]
  },
  {
   "cell_type": "code",
   "execution_count": 6,
   "id": "0308d263",
   "metadata": {
    "ExecuteTime": {
     "end_time": "2021-09-25T14:58:58.754719Z",
     "start_time": "2021-09-25T14:58:58.749731Z"
    }
   },
   "outputs": [],
   "source": [
    "data = np.ndarray(shape=(1, 224, 224, 3), dtype=np.float32)\n",
    "# Normalize the image\n",
    "normalized_image_array = (moment_image.astype(np.float32) / 127.0) - 1\n",
    "# Load the image into the array\n",
    "data[0] = normalized_image_array"
   ]
  },
  {
   "cell_type": "code",
   "execution_count": 21,
   "id": "35f07d8c",
   "metadata": {
    "ExecuteTime": {
     "end_time": "2021-09-24T09:05:03.893518Z",
     "start_time": "2021-09-24T09:04:57.151505Z"
    }
   },
   "outputs": [
    {
     "name": "stdout",
     "output_type": "stream",
     "text": [
      "WARNING:tensorflow:No training configuration found in the save file, so the model was *not* compiled. Compile it manually.\n"
     ]
    }
   ],
   "source": [
    "# 모델 불러오기\n",
    "path = 'C:\\\\Users\\\\pksmb\\\\Desktop\\\\Project\\\\SavedModel\\\\keras_model.h5'\n",
    "model = tf.keras.models.load_model(path)"
   ]
  },
  {
   "cell_type": "code",
   "execution_count": 23,
   "id": "3408575d",
   "metadata": {
    "ExecuteTime": {
     "end_time": "2021-09-24T09:05:19.353656Z",
     "start_time": "2021-09-24T09:05:19.294810Z"
    }
   },
   "outputs": [
    {
     "name": "stdout",
     "output_type": "stream",
     "text": [
      "Base pose : 51.214 %\n"
     ]
    }
   ],
   "source": [
    "prediction = model.predict(data)\n",
    "if np.argmax(prediction) == 0:\n",
    "    print(f'Knee Up : {np.round(prediction[0][0] * 100, 3)} %')\n",
    "elif np.argmax(prediction) == 1:\n",
    "    print(f'일자바 이두컬 : {np.round(prediction[0][1] * 100, 3)} %')\n",
    "elif np.argmax(prediction) == 2:\n",
    "    print(f'Base pose : {np.round(prediction[0][2] * 100, 3)} %')"
   ]
  }
 ],
 "metadata": {
  "kernelspec": {
   "display_name": "test",
   "language": "python",
   "name": "test"
  },
  "language_info": {
   "codemirror_mode": {
    "name": "ipython",
    "version": 3
   },
   "file_extension": ".py",
   "mimetype": "text/x-python",
   "name": "python",
   "nbconvert_exporter": "python",
   "pygments_lexer": "ipython3",
   "version": "3.7.10"
  },
  "toc": {
   "base_numbering": 1,
   "nav_menu": {},
   "number_sections": true,
   "sideBar": true,
   "skip_h1_title": false,
   "title_cell": "Table of Contents",
   "title_sidebar": "Contents",
   "toc_cell": false,
   "toc_position": {},
   "toc_section_display": true,
   "toc_window_display": false
  },
  "varInspector": {
   "cols": {
    "lenName": 16,
    "lenType": 16,
    "lenVar": 40
   },
   "kernels_config": {
    "python": {
     "delete_cmd_postfix": "",
     "delete_cmd_prefix": "del ",
     "library": "var_list.py",
     "varRefreshCmd": "print(var_dic_list())"
    },
    "r": {
     "delete_cmd_postfix": ") ",
     "delete_cmd_prefix": "rm(",
     "library": "var_list.r",
     "varRefreshCmd": "cat(var_dic_list()) "
    }
   },
   "types_to_exclude": [
    "module",
    "function",
    "builtin_function_or_method",
    "instance",
    "_Feature"
   ],
   "window_display": false
  }
 },
 "nbformat": 4,
 "nbformat_minor": 5
}
