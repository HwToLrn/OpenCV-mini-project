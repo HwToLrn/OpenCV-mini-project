{
 "cells": [
  {
   "cell_type": "code",
   "execution_count": 7,
   "id": "edc51963",
   "metadata": {
    "ExecuteTime": {
     "end_time": "2021-09-23T12:31:44.078170Z",
     "start_time": "2021-09-23T12:31:44.069194Z"
    }
   },
   "outputs": [],
   "source": [
    "import threading as trd\n",
    "import time"
   ]
  },
  {
   "cell_type": "code",
   "execution_count": 8,
   "id": "3a48f3cd",
   "metadata": {
    "ExecuteTime": {
     "end_time": "2021-09-23T12:31:44.266732Z",
     "start_time": "2021-09-23T12:31:44.259089Z"
    }
   },
   "outputs": [],
   "source": [
    "def cur_time(num: int, term: float):\n",
    "    while True:\n",
    "        now = time.localtime()\n",
    "        print(trd.currentThread().getName(), num, f'{now.tm_min}:{now.tm_sec}')\n",
    "        time.sleep(term)"
   ]
  },
  {
   "cell_type": "code",
   "execution_count": 9,
   "id": "45e31a7b",
   "metadata": {
    "ExecuteTime": {
     "end_time": "2021-09-23T12:31:44.452317Z",
     "start_time": "2021-09-23T12:31:44.448345Z"
    }
   },
   "outputs": [],
   "source": [
    "thread1 = trd.Thread(target=cur_time, name='Thread1', args=(1, 1))\n",
    "thread2 = trd.Thread(target=cur_time, name='Thread2', args=(2, 1.5))"
   ]
  },
  {
   "cell_type": "code",
   "execution_count": 10,
   "id": "63fa87f0",
   "metadata": {
    "ExecuteTime": {
     "end_time": "2021-09-23T12:31:44.855268Z",
     "start_time": "2021-09-23T12:31:44.848286Z"
    }
   },
   "outputs": [
    {
     "name": "stdout",
     "output_type": "stream",
     "text": [
      "Thread1 1 31:44\n"
     ]
    }
   ],
   "source": [
    "thread1.start()\n",
    "thread2.start()"
   ]
  }
 ],
 "metadata": {
  "kernelspec": {
   "display_name": "Python 3",
   "language": "python",
   "name": "python3"
  },
  "language_info": {
   "codemirror_mode": {
    "name": "ipython",
    "version": 3
   },
   "file_extension": ".py",
   "mimetype": "text/x-python",
   "name": "python",
   "nbconvert_exporter": "python",
   "pygments_lexer": "ipython3",
   "version": "3.7.10"
  },
  "toc": {
   "base_numbering": 1,
   "nav_menu": {},
   "number_sections": true,
   "sideBar": true,
   "skip_h1_title": false,
   "title_cell": "Table of Contents",
   "title_sidebar": "Contents",
   "toc_cell": false,
   "toc_position": {},
   "toc_section_display": true,
   "toc_window_display": false
  },
  "varInspector": {
   "cols": {
    "lenName": 16,
    "lenType": 16,
    "lenVar": 40
   },
   "kernels_config": {
    "python": {
     "delete_cmd_postfix": "",
     "delete_cmd_prefix": "del ",
     "library": "var_list.py",
     "varRefreshCmd": "print(var_dic_list())"
    },
    "r": {
     "delete_cmd_postfix": ") ",
     "delete_cmd_prefix": "rm(",
     "library": "var_list.r",
     "varRefreshCmd": "cat(var_dic_list()) "
    }
   },
   "types_to_exclude": [
    "module",
    "function",
    "builtin_function_or_method",
    "instance",
    "_Feature"
   ],
   "window_display": false
  }
 },
 "nbformat": 4,
 "nbformat_minor": 5
}
