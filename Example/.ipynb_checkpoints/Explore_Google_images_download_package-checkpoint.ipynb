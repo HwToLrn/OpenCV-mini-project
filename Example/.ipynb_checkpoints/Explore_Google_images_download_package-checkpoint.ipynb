{
 "cells": [
  {
   "cell_type": "markdown",
   "id": "d6f5ac59",
   "metadata": {},
   "source": [
    "# google_images_download 라이브러리\n",
    "# Error가 발생해서 사용 못 함"
   ]
  },
  {
   "cell_type": "code",
   "execution_count": 1,
   "id": "d0386c99",
   "metadata": {
    "ExecuteTime": {
     "end_time": "2021-09-25T11:54:25.942341Z",
     "start_time": "2021-09-25T11:54:25.926386Z"
    }
   },
   "outputs": [],
   "source": [
    "from google_images_download import google_images_download as gid"
   ]
  },
  {
   "cell_type": "code",
   "execution_count": 2,
   "id": "82b6a632",
   "metadata": {
    "ExecuteTime": {
     "end_time": "2021-09-25T11:54:26.255962Z",
     "start_time": "2021-09-25T11:54:26.252005Z"
    }
   },
   "outputs": [],
   "source": [
    "directory = 'C:\\\\Users\\\\pksmb\\\\Desktop\\\\Project\\\\GoogleImageDownload'"
   ]
  },
  {
   "cell_type": "code",
   "execution_count": 8,
   "id": "0bd69ede",
   "metadata": {
    "ExecuteTime": {
     "end_time": "2021-09-25T11:51:54.958037Z",
     "start_time": "2021-09-25T11:51:53.776879Z"
    },
    "collapsed": true
   },
   "outputs": [
    {
     "name": "stdout",
     "output_type": "stream",
     "text": [
      "\n",
      "Item no.: 1 --> Item name = squat\n",
      "Evaluating...\n",
      "Starting Download...\n",
      "'183836587'\n"
     ]
    },
    {
     "ename": "TypeError",
     "evalue": "'NoneType' object is not subscriptable",
     "output_type": "error",
     "traceback": [
      "\u001b[1;31m---------------------------------------------------------------------------\u001b[0m",
      "\u001b[1;31mTypeError\u001b[0m                                 Traceback (most recent call last)",
      "\u001b[1;32m<ipython-input-8-0d08da1b9053>\u001b[0m in \u001b[0;36m<module>\u001b[1;34m\u001b[0m\n\u001b[0;32m      6\u001b[0m         'output_directory':directory} # crawling Images를 저장할 폴더\n\u001b[0;32m      7\u001b[0m \u001b[1;33m\u001b[0m\u001b[0m\n\u001b[1;32m----> 8\u001b[1;33m \u001b[0mpaths\u001b[0m \u001b[1;33m=\u001b[0m \u001b[0mresponse\u001b[0m\u001b[1;33m.\u001b[0m\u001b[0mdownload\u001b[0m\u001b[1;33m(\u001b[0m\u001b[0margs\u001b[0m\u001b[1;33m)\u001b[0m\u001b[1;33m\u001b[0m\u001b[1;33m\u001b[0m\u001b[0m\n\u001b[0m",
      "\u001b[1;32m~\\anaconda3\\envs\\test\\lib\\site-packages\\google_images_download\\google_images_download.py\u001b[0m in \u001b[0;36mdownload\u001b[1;34m(self, arguments)\u001b[0m\n\u001b[0;32m    956\u001b[0m             \u001b[1;31m# if the calling file contains params directly\u001b[0m\u001b[1;33m\u001b[0m\u001b[1;33m\u001b[0m\u001b[1;33m\u001b[0m\u001b[0m\n\u001b[0;32m    957\u001b[0m             \u001b[1;32melse\u001b[0m\u001b[1;33m:\u001b[0m\u001b[1;33m\u001b[0m\u001b[1;33m\u001b[0m\u001b[0m\n\u001b[1;32m--> 958\u001b[1;33m                 \u001b[0mpaths\u001b[0m\u001b[1;33m,\u001b[0m \u001b[0merrors\u001b[0m \u001b[1;33m=\u001b[0m \u001b[0mself\u001b[0m\u001b[1;33m.\u001b[0m\u001b[0mdownload_executor\u001b[0m\u001b[1;33m(\u001b[0m\u001b[0marguments\u001b[0m\u001b[1;33m)\u001b[0m\u001b[1;33m\u001b[0m\u001b[1;33m\u001b[0m\u001b[0m\n\u001b[0m\u001b[0;32m    959\u001b[0m                 \u001b[1;32mfor\u001b[0m \u001b[0mi\u001b[0m \u001b[1;32min\u001b[0m \u001b[0mpaths\u001b[0m\u001b[1;33m:\u001b[0m\u001b[1;33m\u001b[0m\u001b[1;33m\u001b[0m\u001b[0m\n\u001b[0;32m    960\u001b[0m                     \u001b[0mpaths_agg\u001b[0m\u001b[1;33m[\u001b[0m\u001b[0mi\u001b[0m\u001b[1;33m]\u001b[0m \u001b[1;33m=\u001b[0m \u001b[0mpaths\u001b[0m\u001b[1;33m[\u001b[0m\u001b[0mi\u001b[0m\u001b[1;33m]\u001b[0m\u001b[1;33m\u001b[0m\u001b[1;33m\u001b[0m\u001b[0m\n",
      "\u001b[1;32m~\\anaconda3\\envs\\test\\lib\\site-packages\\google_images_download\\google_images_download.py\u001b[0m in \u001b[0;36mdownload_executor\u001b[1;34m(self, arguments)\u001b[0m\n\u001b[0;32m   1091\u001b[0m                             \u001b[0mprint\u001b[0m\u001b[1;33m(\u001b[0m\u001b[1;34m\"Starting Download...\"\u001b[0m\u001b[1;33m)\u001b[0m\u001b[1;33m\u001b[0m\u001b[1;33m\u001b[0m\u001b[0m\n\u001b[0;32m   1092\u001b[0m                     items, errorCount, abs_path = self._get_all_items(images, main_directory, dir_name, limit,\n\u001b[1;32m-> 1093\u001b[1;33m                                                                       arguments)  # get all image items and download images\n\u001b[0m\u001b[0;32m   1094\u001b[0m                     \u001b[0mpaths\u001b[0m\u001b[1;33m[\u001b[0m\u001b[0mpky\u001b[0m \u001b[1;33m+\u001b[0m \u001b[0msearch_keyword\u001b[0m\u001b[1;33m[\u001b[0m\u001b[0mi\u001b[0m\u001b[1;33m]\u001b[0m \u001b[1;33m+\u001b[0m \u001b[0msky\u001b[0m\u001b[1;33m]\u001b[0m \u001b[1;33m=\u001b[0m \u001b[0mabs_path\u001b[0m\u001b[1;33m\u001b[0m\u001b[1;33m\u001b[0m\u001b[0m\n\u001b[0;32m   1095\u001b[0m \u001b[1;33m\u001b[0m\u001b[0m\n",
      "\u001b[1;32m~\\anaconda3\\envs\\test\\lib\\site-packages\\google_images_download\\google_images_download.py\u001b[0m in \u001b[0;36m_get_all_items\u001b[1;34m(self, image_objects, main_directory, dir_name, limit, arguments)\u001b[0m\n\u001b[0;32m    892\u001b[0m                 \u001b[1;31m# download the images\u001b[0m\u001b[1;33m\u001b[0m\u001b[1;33m\u001b[0m\u001b[1;33m\u001b[0m\u001b[0m\n\u001b[0;32m    893\u001b[0m                 download_status, download_message, return_image_name, absolute_path = self.download_image(\n\u001b[1;32m--> 894\u001b[1;33m                     \u001b[0mobject\u001b[0m\u001b[1;33m[\u001b[0m\u001b[1;34m'image_link'\u001b[0m\u001b[1;33m]\u001b[0m\u001b[1;33m,\u001b[0m \u001b[0mobject\u001b[0m\u001b[1;33m[\u001b[0m\u001b[1;34m'image_format'\u001b[0m\u001b[1;33m]\u001b[0m\u001b[1;33m,\u001b[0m \u001b[0mmain_directory\u001b[0m\u001b[1;33m,\u001b[0m \u001b[0mdir_name\u001b[0m\u001b[1;33m,\u001b[0m \u001b[0mcount\u001b[0m\u001b[1;33m,\u001b[0m\u001b[1;33m\u001b[0m\u001b[1;33m\u001b[0m\u001b[0m\n\u001b[0m\u001b[0;32m    895\u001b[0m                     \u001b[0marguments\u001b[0m\u001b[1;33m[\u001b[0m\u001b[1;34m'print_urls'\u001b[0m\u001b[1;33m]\u001b[0m\u001b[1;33m,\u001b[0m \u001b[0marguments\u001b[0m\u001b[1;33m[\u001b[0m\u001b[1;34m'socket_timeout'\u001b[0m\u001b[1;33m]\u001b[0m\u001b[1;33m,\u001b[0m \u001b[0marguments\u001b[0m\u001b[1;33m[\u001b[0m\u001b[1;34m'prefix'\u001b[0m\u001b[1;33m]\u001b[0m\u001b[1;33m,\u001b[0m \u001b[0marguments\u001b[0m\u001b[1;33m[\u001b[0m\u001b[1;34m'print_size'\u001b[0m\u001b[1;33m]\u001b[0m\u001b[1;33m,\u001b[0m\u001b[1;33m\u001b[0m\u001b[1;33m\u001b[0m\u001b[0m\n\u001b[0;32m    896\u001b[0m                     \u001b[0marguments\u001b[0m\u001b[1;33m[\u001b[0m\u001b[1;34m'no_numbering'\u001b[0m\u001b[1;33m]\u001b[0m\u001b[1;33m,\u001b[0m \u001b[0marguments\u001b[0m\u001b[1;33m[\u001b[0m\u001b[1;34m'no_download'\u001b[0m\u001b[1;33m]\u001b[0m\u001b[1;33m,\u001b[0m \u001b[0marguments\u001b[0m\u001b[1;33m[\u001b[0m\u001b[1;34m'save_source'\u001b[0m\u001b[1;33m]\u001b[0m\u001b[1;33m,\u001b[0m\u001b[1;33m\u001b[0m\u001b[1;33m\u001b[0m\u001b[0m\n",
      "\u001b[1;31mTypeError\u001b[0m: 'NoneType' object is not subscriptable"
     ]
    }
   ],
   "source": [
    "response = gid.googleimagesdownload() \n",
    "args = {'keywords':'squat',       # 검색어 2개 이상가능\n",
    "        'limit':50,                    # Image 개수 최대 100개\n",
    "        'print_urls':True,             # Image url 출력 여부\n",
    "        'format':'jpg',                # Image 확장자 지정\n",
    "        'output_directory':directory} # crawling Images를 저장할 폴더\n",
    "\n",
    "paths = response.download(args)"
   ]
  },
  {
   "cell_type": "code",
   "execution_count": 3,
   "id": "c2c128e5",
   "metadata": {
    "ExecuteTime": {
     "end_time": "2021-09-25T11:54:29.109002Z",
     "start_time": "2021-09-25T11:54:28.531699Z"
    }
   },
   "outputs": [
    {
     "name": "stdout",
     "output_type": "stream",
     "text": [
      "\n",
      "Item no.: 1 --> Item name = \\uace0\\uc591\\uc774\n",
      "Evaluating...\n",
      "Starting Download...\n",
      "\n",
      "\n",
      "Unfortunately all 20 could not be downloaded because some images were not downloadable. 0 is all we got for this search filter!\n",
      "\n",
      "Errors: 0\n",
      "\n",
      "({'고양이': []}, 0)\n"
     ]
    }
   ],
   "source": [
    "response = gid.googleimagesdownload() \n",
    "arguments = {\"keywords\":\"고양이\",\"limit\":20,\"print_urls\":True}\n",
    "paths = response.download(arguments)\n",
    "print(paths)"
   ]
  },
  {
   "cell_type": "code",
   "execution_count": null,
   "id": "05af27b1",
   "metadata": {},
   "outputs": [],
   "source": []
  }
 ],
 "metadata": {
  "kernelspec": {
   "display_name": "test",
   "language": "python",
   "name": "test"
  },
  "language_info": {
   "codemirror_mode": {
    "name": "ipython",
    "version": 3
   },
   "file_extension": ".py",
   "mimetype": "text/x-python",
   "name": "python",
   "nbconvert_exporter": "python",
   "pygments_lexer": "ipython3",
   "version": "3.7.10"
  },
  "toc": {
   "base_numbering": 1,
   "nav_menu": {},
   "number_sections": true,
   "sideBar": true,
   "skip_h1_title": false,
   "title_cell": "Table of Contents",
   "title_sidebar": "Contents",
   "toc_cell": false,
   "toc_position": {},
   "toc_section_display": true,
   "toc_window_display": false
  },
  "varInspector": {
   "cols": {
    "lenName": 16,
    "lenType": 16,
    "lenVar": 40
   },
   "kernels_config": {
    "python": {
     "delete_cmd_postfix": "",
     "delete_cmd_prefix": "del ",
     "library": "var_list.py",
     "varRefreshCmd": "print(var_dic_list())"
    },
    "r": {
     "delete_cmd_postfix": ") ",
     "delete_cmd_prefix": "rm(",
     "library": "var_list.r",
     "varRefreshCmd": "cat(var_dic_list()) "
    }
   },
   "types_to_exclude": [
    "module",
    "function",
    "builtin_function_or_method",
    "instance",
    "_Feature"
   ],
   "window_display": false
  }
 },
 "nbformat": 4,
 "nbformat_minor": 5
}
