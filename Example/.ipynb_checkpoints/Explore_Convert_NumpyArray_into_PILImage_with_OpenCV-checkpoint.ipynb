{
 "cells": [
  {
   "cell_type": "code",
   "execution_count": 50,
   "id": "5241dad8",
   "metadata": {
    "ExecuteTime": {
     "end_time": "2021-09-24T08:49:02.694298Z",
     "start_time": "2021-09-24T08:48:59.639112Z"
    }
   },
   "outputs": [],
   "source": [
    "import cv2\n",
    "from PIL import Image, ImageOps\n",
    "import numpy as np\n",
    "import tensorflow as tf"
   ]
  },
  {
   "cell_type": "code",
   "execution_count": 2,
   "id": "31c67408",
   "metadata": {
    "ExecuteTime": {
     "end_time": "2021-09-24T08:17:38.248665Z",
     "start_time": "2021-09-24T08:17:38.240688Z"
    }
   },
   "outputs": [],
   "source": [
    "# 이미지를 가져오는 방법\n",
    "# 저장된 이미지를 가져오는 것이 아니라\n",
    "# cam에서 찍은 순간의 image를 가져온다.\n",
    "def get_camImage():\n",
    "    global CheckActVideo, moment_image\n",
    "    # 내부 카메라를 찾는 함수\n",
    "    video = cv2.VideoCapture(0)\n",
    "    # CheckActVideo : 카메라가 활성화 됐는지 여부확인\n",
    "    # video.read() : 현재 cam 사진 한 장을 찍음\n",
    "    CheckActVideo, moment_image = video.read() \n",
    "    \n",
    "    if CheckActVideo: \n",
    "        print(\"Get Image, shape of Image : \", moment_image.shape)\n",
    "    else:\n",
    "        print(\"Fail getting Image\")"
   ]
  },
  {
   "cell_type": "code",
   "execution_count": 3,
   "id": "2cdd3b7f",
   "metadata": {
    "ExecuteTime": {
     "end_time": "2021-09-24T08:17:39.440430Z",
     "start_time": "2021-09-24T08:17:38.948023Z"
    }
   },
   "outputs": [
    {
     "name": "stdout",
     "output_type": "stream",
     "text": [
      "Get Image, shape of Image :  (720, 1280, 3)\n"
     ]
    }
   ],
   "source": [
    "get_camImage()"
   ]
  },
  {
   "cell_type": "code",
   "execution_count": 4,
   "id": "6ea63500",
   "metadata": {
    "ExecuteTime": {
     "end_time": "2021-09-24T08:18:19.950406Z",
     "start_time": "2021-09-24T08:17:57.109923Z"
    }
   },
   "outputs": [],
   "source": [
    "cv2.namedWindow(winname='image')\n",
    "while True:\n",
    "    cv2.imshow(winname='image', moment_image)\n",
    "    if cv2.waitKey(1) & 0xFF == 27:\n",
    "        cv2.destroyAllWindows()\n",
    "        break"
   ]
  },
  {
   "cell_type": "code",
   "execution_count": 8,
   "id": "6fdd0166",
   "metadata": {
    "ExecuteTime": {
     "end_time": "2021-09-24T08:24:11.709096Z",
     "start_time": "2021-09-24T08:24:11.700122Z"
    }
   },
   "outputs": [
    {
     "name": "stdout",
     "output_type": "stream",
     "text": [
      "1\n"
     ]
    }
   ],
   "source": [
    "# Image 깨짐 방지\n",
    "print(Image.ANTIALIAS)"
   ]
  },
  {
   "cell_type": "code",
   "execution_count": 38,
   "id": "82b674cb",
   "metadata": {
    "ExecuteTime": {
     "end_time": "2021-09-24T08:40:48.430291Z",
     "start_time": "2021-09-24T08:40:48.423310Z"
    }
   },
   "outputs": [],
   "source": [
    "path = 'C:\\\\Users\\\\pksmb\\\\Desktop\\\\Project\\\\Sample image\\\\KakaoTalk_20210923_204223628_11.jpg'\n",
    "image = Image.open(path)"
   ]
  },
  {
   "cell_type": "code",
   "execution_count": 39,
   "id": "5a5a1b9e",
   "metadata": {
    "ExecuteTime": {
     "end_time": "2021-09-24T08:40:49.031421Z",
     "start_time": "2021-09-24T08:40:48.993523Z"
    }
   },
   "outputs": [
    {
     "name": "stdout",
     "output_type": "stream",
     "text": [
      "not change the image type :  <class 'PIL.JpegImagePlugin.JpegImageFile'>\n",
      "change the image type :  <class 'numpy.ndarray'>\n",
      "Our Image type :  <class 'numpy.ndarray'>\n",
      "Image.ANTIALIAS type :  <class 'int'>\n"
     ]
    }
   ],
   "source": [
    "image_array = np.asarray(image)\n",
    "print('not change the image type : ', type(image))\n",
    "print('change the image type : ', type(image_array))\n",
    "print('Our Image type : ', type(moment_image))\n",
    "print('Image.ANTIALIAS type : ', type(Image.ANTIALIAS))"
   ]
  },
  {
   "cell_type": "code",
   "execution_count": 31,
   "id": "c94fcbfa",
   "metadata": {
    "ExecuteTime": {
     "end_time": "2021-09-24T08:36:33.996402Z",
     "start_time": "2021-09-24T08:36:33.979447Z"
    }
   },
   "outputs": [],
   "source": [
    "# numpy array형태는 ImageOps.fit의 인자로 넣으면 Error가 발생한다.\n",
    "# 따라서 PIL type의 image 형태로 변환이 필요하다.\n",
    "PILtype_image = Image.fromarray(image_array)\n",
    "print('PILtype_image type : ', type(PILtype_image))"
   ]
  },
  {
   "cell_type": "code",
   "execution_count": 42,
   "id": "dc257013",
   "metadata": {
    "ExecuteTime": {
     "end_time": "2021-09-24T08:41:16.232199Z",
     "start_time": "2021-09-24T08:41:16.226216Z"
    }
   },
   "outputs": [
    {
     "name": "stdout",
     "output_type": "stream",
     "text": [
      "image_converted type :  <class 'PIL.Image.Image'>\n"
     ]
    }
   ],
   "source": [
    "image_converted = Image.fromarray(moment_image)\n",
    "print('image_converted type : ', type(image_converted))"
   ]
  },
  {
   "cell_type": "code",
   "execution_count": 43,
   "id": "38dc5a33",
   "metadata": {
    "ExecuteTime": {
     "end_time": "2021-09-24T08:41:17.322450Z",
     "start_time": "2021-09-24T08:41:17.304496Z"
    }
   },
   "outputs": [
    {
     "name": "stdout",
     "output_type": "stream",
     "text": [
      "image type :  <class 'PIL.Image.Image'>\n"
     ]
    }
   ],
   "source": [
    "size = (224, 224)\n",
    "image = ImageOps.fit(image_converted, size, Image.ANTIALIAS)\n",
    "print('image type : ', type(image))"
   ]
  },
  {
   "cell_type": "code",
   "execution_count": 49,
   "id": "0308d263",
   "metadata": {
    "ExecuteTime": {
     "end_time": "2021-09-24T08:45:31.044495Z",
     "start_time": "2021-09-24T08:45:31.026542Z"
    }
   },
   "outputs": [],
   "source": [
    "data = np.ndarray(shape=(1, 224, 224, 3), dtype=np.float32)\n",
    "#turn the image into a numpy array\n",
    "image_array = np.asarray(image)\n",
    "# Normalize the image\n",
    "normalized_image_array = (image_array.astype(np.float32) / 127.0) - 1\n",
    "# Load the image into the array\n",
    "data[0] = normalized_image_array"
   ]
  },
  {
   "cell_type": "code",
   "execution_count": 51,
   "id": "35f07d8c",
   "metadata": {
    "ExecuteTime": {
     "end_time": "2021-09-24T08:49:42.693319Z",
     "start_time": "2021-09-24T08:49:35.152953Z"
    }
   },
   "outputs": [
    {
     "name": "stdout",
     "output_type": "stream",
     "text": [
      "WARNING:tensorflow:No training configuration found in the save file, so the model was *not* compiled. Compile it manually.\n"
     ]
    }
   ],
   "source": [
    "# 모델 불러오기\n",
    "path = 'C:\\\\Users\\\\pksmb\\\\Desktop\\\\Project\\\\SavedModel\\\\keras_model.h5'\n",
    "model = tf.keras.models.load_model(path)"
   ]
  },
  {
   "cell_type": "code",
   "execution_count": 58,
   "id": "3408575d",
   "metadata": {
    "ExecuteTime": {
     "end_time": "2021-09-24T08:54:20.520627Z",
     "start_time": "2021-09-24T08:54:20.460737Z"
    }
   },
   "outputs": [
    {
     "name": "stdout",
     "output_type": "stream",
     "text": [
      "Knee Up : 65.017 %\n"
     ]
    }
   ],
   "source": [
    "prediction = model.predict(data)\n",
    "if np.argmax(prediction) == 0:\n",
    "    print(f'Knee Up : {np.round(prediction[0][0] * 100, 3)} %')\n",
    "elif np.argmax(prediction) == 1:\n",
    "    print(f'일자바 이두컬 : {np.round(prediction[0][1] * 100, 3)} %')\n",
    "elif np.argmax(prediction) == 2:\n",
    "    print(f'Base pose : {np.round(prediction[0][2] * 100, 3)} %')"
   ]
  }
 ],
 "metadata": {
  "kernelspec": {
   "display_name": "test",
   "language": "python",
   "name": "test"
  },
  "language_info": {
   "codemirror_mode": {
    "name": "ipython",
    "version": 3
   },
   "file_extension": ".py",
   "mimetype": "text/x-python",
   "name": "python",
   "nbconvert_exporter": "python",
   "pygments_lexer": "ipython3",
   "version": "3.7.10"
  },
  "toc": {
   "base_numbering": 1,
   "nav_menu": {},
   "number_sections": true,
   "sideBar": true,
   "skip_h1_title": false,
   "title_cell": "Table of Contents",
   "title_sidebar": "Contents",
   "toc_cell": false,
   "toc_position": {},
   "toc_section_display": true,
   "toc_window_display": false
  },
  "varInspector": {
   "cols": {
    "lenName": 16,
    "lenType": 16,
    "lenVar": 40
   },
   "kernels_config": {
    "python": {
     "delete_cmd_postfix": "",
     "delete_cmd_prefix": "del ",
     "library": "var_list.py",
     "varRefreshCmd": "print(var_dic_list())"
    },
    "r": {
     "delete_cmd_postfix": ") ",
     "delete_cmd_prefix": "rm(",
     "library": "var_list.r",
     "varRefreshCmd": "cat(var_dic_list()) "
    }
   },
   "types_to_exclude": [
    "module",
    "function",
    "builtin_function_or_method",
    "instance",
    "_Feature"
   ],
   "window_display": false
  }
 },
 "nbformat": 4,
 "nbformat_minor": 5
}
