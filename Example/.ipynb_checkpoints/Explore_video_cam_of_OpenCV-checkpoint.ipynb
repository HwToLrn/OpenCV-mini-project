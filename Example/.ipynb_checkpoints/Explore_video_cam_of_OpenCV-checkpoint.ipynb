{
 "cells": [
  {
   "cell_type": "code",
   "execution_count": 50,
   "id": "5241dad8",
   "metadata": {
    "ExecuteTime": {
     "end_time": "2021-09-24T08:49:02.694298Z",
     "start_time": "2021-09-24T08:48:59.639112Z"
    }
   },
   "outputs": [],
   "source": [
    "import cv2"
   ]
  },
  {
   "cell_type": "code",
   "execution_count": 2,
   "id": "31c67408",
   "metadata": {
    "ExecuteTime": {
     "end_time": "2021-09-24T08:17:38.248665Z",
     "start_time": "2021-09-24T08:17:38.240688Z"
    }
   },
   "outputs": [],
   "source": [
    "# 이미지를 가져오는 방법\n",
    "# 저장된 이미지를 가져오는 것이 아니라\n",
    "# cam에서 찍은 순간의 image를 가져온다.\n",
    "def get_camImage():\n",
    "    global CheckActVideo, moment_image\n",
    "    # 내부 카메라를 찾는 함수\n",
    "    video = cv2.VideoCapture(0)\n",
    "    # CheckActVideo : 카메라가 활성화 됐는지 여부확인\n",
    "    # video.read() : 현재 cam 사진 한 장을 찍음\n",
    "    CheckActVideo, moment_image = video.read() \n",
    "    \n",
    "    if CheckActVideo: \n",
    "        print(\"Get Image, shape of Image : \", moment_image.shape)\n",
    "    else:\n",
    "        print(\"Fail getting Image\")"
   ]
  },
  {
   "cell_type": "code",
   "execution_count": 3,
   "id": "2cdd3b7f",
   "metadata": {
    "ExecuteTime": {
     "end_time": "2021-09-24T08:17:39.440430Z",
     "start_time": "2021-09-24T08:17:38.948023Z"
    }
   },
   "outputs": [
    {
     "name": "stdout",
     "output_type": "stream",
     "text": [
      "Get Image, shape of Image :  (720, 1280, 3)\n"
     ]
    }
   ],
   "source": [
    "get_camImage()"
   ]
  },
  {
   "cell_type": "code",
   "execution_count": 4,
   "id": "6ea63500",
   "metadata": {
    "ExecuteTime": {
     "end_time": "2021-09-24T08:18:19.950406Z",
     "start_time": "2021-09-24T08:17:57.109923Z"
    }
   },
   "outputs": [],
   "source": [
    "cv2.namedWindow(winname='image')\n",
    "while True:\n",
    "    cv2.imshow(winname='image', moment_image)\n",
    "    if cv2.waitKey(1) & 0xFF == 27:\n",
    "        cv2.destroyAllWindows()\n",
    "        break"
   ]
  }
 ],
 "metadata": {
  "kernelspec": {
   "display_name": "test",
   "language": "python",
   "name": "test"
  },
  "language_info": {
   "codemirror_mode": {
    "name": "ipython",
    "version": 3
   },
   "file_extension": ".py",
   "mimetype": "text/x-python",
   "name": "python",
   "nbconvert_exporter": "python",
   "pygments_lexer": "ipython3",
   "version": "3.7.10"
  },
  "toc": {
   "base_numbering": 1,
   "nav_menu": {},
   "number_sections": true,
   "sideBar": true,
   "skip_h1_title": false,
   "title_cell": "Table of Contents",
   "title_sidebar": "Contents",
   "toc_cell": false,
   "toc_position": {},
   "toc_section_display": true,
   "toc_window_display": false
  },
  "varInspector": {
   "cols": {
    "lenName": 16,
    "lenType": 16,
    "lenVar": 40
   },
   "kernels_config": {
    "python": {
     "delete_cmd_postfix": "",
     "delete_cmd_prefix": "del ",
     "library": "var_list.py",
     "varRefreshCmd": "print(var_dic_list())"
    },
    "r": {
     "delete_cmd_postfix": ") ",
     "delete_cmd_prefix": "rm(",
     "library": "var_list.r",
     "varRefreshCmd": "cat(var_dic_list()) "
    }
   },
   "types_to_exclude": [
    "module",
    "function",
    "builtin_function_or_method",
    "instance",
    "_Feature"
   ],
   "window_display": false
  }
 },
 "nbformat": 4,
 "nbformat_minor": 5
}
